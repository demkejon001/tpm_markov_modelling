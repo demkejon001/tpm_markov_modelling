{
 "cells": [
  {
   "cell_type": "code",
   "execution_count": 42,
   "metadata": {},
   "outputs": [],
   "source": [
    "import copy\n",
    "import numpy as np\n",
    "import matplotlib.pyplot as plt\n",
    "import sklearn\n",
    "from sklearn.manifold import TSNE\n",
    "\n",
    "import torch\n",
    "import torch.nn as nn\n",
    "\n",
    "from train2 import to_np, device, group_left, group_right, get_dataset, AutoencodingWorldModel, collate_dataset"
   ]
  },
  {
   "cell_type": "code",
   "execution_count": null,
   "metadata": {},
   "outputs": [],
   "source": []
  },
  {
   "cell_type": "code",
   "execution_count": 14,
   "metadata": {},
   "outputs": [],
   "source": [
    "import itertools\n",
    "import numpy as np\n",
    "\n",
    "lang_4_2 = [''.join(i) for i in itertools.product('LR', repeat=4)]\n",
    "lang_4_1 = []\n",
    "for l in lang_4_2:\n",
    "    if l[-1] == 'L':\n",
    "        lang_4_1.append(l[:-1] + \"A\")\n",
    "    else:\n",
    "        lang_4_1.append(l[:-1] + \"B\")\n",
    "\n",
    "\n",
    "lang_3_4 = [''.join(i) for i in itertools.product('LR', repeat=3)]\n",
    "lang_3_321 = []\n",
    "for l in lang_3_4:\n",
    "    if l[-1] == 'L':\n",
    "        c = \"A\"\n",
    "    else:\n",
    "        c = \"B\"\n",
    "    lang_3_321.append(l[:-1] + c)\n",
    "    lang_3_321.append(l[:-1] + c + \"2\")\n",
    "    lang_3_321.append(l[:-1] + c + \"3\")\n",
    "    \n",
    "lang_2_2 = [''.join(i) for i in itertools.product('LR', repeat=2)]\n",
    "lang_2_1 = []\n",
    "for l in lang_2_2:\n",
    "    if l[-1] == 'L':\n",
    "        lang_2_1.append(l[:-1] + \"A\")\n",
    "    else:\n",
    "        lang_2_1.append(l[:-1] + \"B\")\n",
    "        \n",
    "        \n",
    "lang_1 = [\"L\", \"R\"]\n",
    "for c in [\"A\", \"B\"]:\n",
    "    lang_1.append(c)\n",
    "    lang_1.append(c + \"2\")\n",
    "    lang_1.append(c + \"3\")\n",
    "\n",
    "\n",
    "lang = np.concatenate([lang_4_2, lang_4_1, lang_3_4, lang_3_321, lang_2_2, lang_2_1, lang_1])\n",
    "    "
   ]
  },
  {
   "cell_type": "code",
   "execution_count": 17,
   "metadata": {},
   "outputs": [
    {
     "data": {
      "text/plain": [
       "array(['LLLL', 'LLLR', 'LLRL', 'LLRR', 'LRLL', 'LRLR', 'LRRL', 'LRRR',\n",
       "       'RLLL', 'RLLR', 'RLRL', 'RLRR', 'RRLL', 'RRLR', 'RRRL', 'RRRR',\n",
       "       'LLLA', 'LLLB', 'LLRA', 'LLRB', 'LRLA', 'LRLB', 'LRRA', 'LRRB',\n",
       "       'RLLA', 'RLLB', 'RLRA', 'RLRB', 'RRLA', 'RRLB', 'RRRA', 'RRRB',\n",
       "       'LLL', 'LLR', 'LRL', 'LRR', 'RLL', 'RLR', 'RRL', 'RRR', 'LLA',\n",
       "       'LLA2', 'LLA3', 'LLB', 'LLB2', 'LLB3', 'LRA', 'LRA2', 'LRA3',\n",
       "       'LRB', 'LRB2', 'LRB3', 'RLA', 'RLA2', 'RLA3', 'RLB', 'RLB2',\n",
       "       'RLB3', 'RRA', 'RRA2', 'RRA3', 'RRB', 'RRB2', 'RRB3', 'LL', 'LR',\n",
       "       'RL', 'RR', 'LA', 'LB', 'RA', 'RB', 'L', 'R', 'A', 'A2', 'A3', 'B',\n",
       "       'B2', 'B3'], dtype='<U4')"
      ]
     },
     "execution_count": 17,
     "metadata": {},
     "output_type": "execute_result"
    }
   ],
   "source": [
    "lang"
   ]
  },
  {
   "cell_type": "code",
   "execution_count": 18,
   "metadata": {},
   "outputs": [
    {
     "data": {
      "text/plain": [
       "'LLLLLLLRLLRLLLRRLRLLLRLRLRRLLRRRRLLLRLLRRLRLRLRRRRLLRRLRRRRLRRRRLLLALLLBLLRALLRBLRLALRLBLRRALRRBRLLARLLBRLRARLRBRRLARRLBRRRARRRBLLLLLRLRLLRRRLLRLRRRLRRRLLALLA2LLA3LLBLLB2LLB3LRALRA2LRA3LRBLRB2LRB3RLARLA2RLA3RLBRLB2RLB3RRARRA2RRA3RRBRRB2RRB3LLLRRLRRLALBRARBLRAA2A3BB2B3'"
      ]
     },
     "execution_count": 18,
     "metadata": {},
     "output_type": "execute_result"
    }
   ],
   "source": [
    "''.join(lang)"
   ]
  },
  {
   "cell_type": "code",
   "execution_count": 19,
   "metadata": {},
   "outputs": [
    {
     "name": "stdout",
     "output_type": "stream",
     "text": [
      "[4, 5, 5, 6, 5, 6, 6, 7, 5, 6, 6, 7, 6, 7, 7, 8, 6, 7, 7, 8, 7, 8, 8, 9, 7, 8, 8, 9, 8, 9, 9, 10, 3, 4, 4, 5, 4, 5, 5, 6, 5, 10, 10, 6, 11, 11, 6, 11, 11, 7, 12, 12, 6, 11, 11, 7, 12, 12, 7, 12, 12, 8, 13, 13, 2, 3, 3, 4, 4, 5, 5, 6, 1, 2, 3, 8, 8, 4, 9, 9]\n"
     ]
    }
   ],
   "source": [
    "bit_rates = []\n",
    "char_to_rate = {\"L\": 1, \"R\": 2, \"A\": 3, \"B\": 4, \"2\": 5, \"3\": 5}\n",
    "for l in lang:\n",
    "    bitrate = 0\n",
    "    for c in l:\n",
    "        bitrate += char_to_rate[c]\n",
    "    bit_rates.append(bitrate)\n",
    "    \n",
    "print(bit_rates)        "
   ]
  },
  {
   "cell_type": "code",
   "execution_count": 24,
   "metadata": {},
   "outputs": [
    {
     "name": "stdout",
     "output_type": "stream",
     "text": [
      "['0000000000000000', '0000000000001111', '0000000011110000', '0000000011111111', '0000111100000000', '0000111100001111', '0000111111110000', '0000111111111111', '1111000000000000', '1111000000001111', '1111000011110000', '1111000011111111', '1111111100000000', '1111111100001111', '1111111111110000', '1111111111111111', '0000000000000', '0000000000001', '0000000011110', '0000000011111', '0000111100000', '0000111100001', '0000111111110', '0000111111111', '1111000000000', '1111000000001', '1111000011110', '1111000011111', '1111111100000', '1111111100001', '1111111111110', '1111111111111', '000000000000', '000000001111', '000011110000', '000011111111', '111100000000', '111100001111', '111111110000', '111111111111', '000000000', '00000000000', '000000000000', '000000001', '00000000111', '000000001111', '000011110', '00001111000', '000011110000', '000011111', '00001111111', '000011111111', '111100000', '11110000000', '111100000000', '111100001', '11110000111', '111100001111', '111111110', '11111111000', '111111110000', '111111111', '11111111111', '111111111111', '00000000', '00001111', '11110000', '11111111', '00000', '00001', '11110', '11111', '0000', '1111', '0', '000', '0000', '1', '111', '1111']\n"
     ]
    }
   ],
   "source": [
    "action_sequences = []\n",
    "char_to_rate = {\"L\": 1, \"R\": 2, \"A\": 3, \"B\": 4, \"2\": 5, \"3\": 5}\n",
    "for l in lang:\n",
    "    action_sequence = ''\n",
    "    for c in l:\n",
    "        if c == \"L\":\n",
    "            action_sequence += '0000'\n",
    "        elif c == \"R\":\n",
    "            action_sequence += '1111'\n",
    "        elif c == \"A\":\n",
    "            action_sequence += '0'\n",
    "        elif c == \"B\":\n",
    "            action_sequence += '1'\n",
    "        else:\n",
    "            action_sequence += action_sequence[-1] * int(c)\n",
    "            \n",
    "    action_sequences.append(action_sequence)\n",
    "print(action_sequences)"
   ]
  },
  {
   "cell_type": "code",
   "execution_count": 31,
   "metadata": {},
   "outputs": [
    {
     "name": "stdout",
     "output_type": "stream",
     "text": [
      "Original data: 0000000000000000\n",
      "0000000000001111\n",
      "0000000011110000\n",
      "0000000011111111\n",
      "0000111100000000\n",
      "0000111100001111\n",
      "0000111111110000\n",
      "0000111111111111\n",
      "1111000000000000\n",
      "1111000000001111\n",
      "1111000011110000\n",
      "1111000011111111\n",
      "1111111100000000\n",
      "1111111100001111\n",
      "1111111111110000\n",
      "1111111111111111\n",
      "0000000000000\n",
      "0000000000001\n",
      "0000000011110\n",
      "0000000011111\n",
      "0000111100000\n",
      "0000111100001\n",
      "0000111111110\n",
      "0000111111111\n",
      "1111000000000\n",
      "1111000000001\n",
      "1111000011110\n",
      "1111000011111\n",
      "1111111100000\n",
      "1111111100001\n",
      "1111111111110\n",
      "1111111111111\n",
      "000000000000\n",
      "000000001111\n",
      "000011110000\n",
      "000011111111\n",
      "111100000000\n",
      "111100001111\n",
      "111111110000\n",
      "111111111111\n",
      "000000000\n",
      "00000000000\n",
      "000000000000\n",
      "000000001\n",
      "00000000111\n",
      "000000001111\n",
      "000011110\n",
      "00001111000\n",
      "000011110000\n",
      "000011111\n",
      "00001111111\n",
      "000011111111\n",
      "111100000\n",
      "11110000000\n",
      "111100000000\n",
      "111100001\n",
      "11110000111\n",
      "111100001111\n",
      "111111110\n",
      "11111111000\n",
      "111111110000\n",
      "111111111\n",
      "11111111111\n",
      "111111111111\n",
      "00000000\n",
      "00001111\n",
      "11110000\n",
      "11111111\n",
      "00000\n",
      "00001\n",
      "11110\n",
      "11111\n",
      "0000\n",
      "1111\n",
      "0\n",
      "000\n",
      "0000\n",
      "1\n",
      "111\n",
      "1111\n",
      "Compressed data: [(0, '0'), (1, '0'), (2, '0'), (3, '0'), (4, '0'), (1, '\\n'), (5, '0'), (7, '1'), (0, '1'), (9, '1'), (0, '\\n'), (7, '0'), (1, '1'), (10, '1'), (4, '\\n'), (12, '0'), (14, '1'), (17, '\\n'), (4, '1'), (14, '0'), (12, '\\n'), (19, '1'), (10, '0'), (3, '1'), (14, '\\n'), (22, '1'), (17, '1'), (15, '0'), (24, '1'), (27, '1'), (18, '1'), (20, '0'), (16, '0'), (6, '1'), (32, '0'), (5, '1'), (25, '1'), (35, '0'), (17, '0'), (3, '\\n'), (39, '0'), (2, '1'), (30, '1'), (11, '1'), (43, '0'), (21, '1'), (45, '0'), (42, '1'), (10, '\\n'), (43, '1'), (41, '0'), (34, '1'), (50, '1'), (27, '\\n'), (33, '0'), (40, '0'), (55, '0'), (9, '\\n'), (16, '1'), (20, '\\n'), (59, '1'), (25, '0'), (29, '1'), (9, '0'), (28, '0'), (48, '1'), (64, '0'), (42, '\\n'), (26, '1'), (39, '\\n'), (69, '1'), (31, '1'), (23, '0'), (46, '1'), (73, '0'), (36, '\\n'), (51, '0'), (70, '1'), (38, '1'), (72, '1'), (27, '0'), (15, '1'), (47, '0'), (13, '\\n'), (53, '1'), (23, '\\n'), (85, '1'), (49, '0'), (57, '\\n'), (61, '1'), (58, '0'), (63, '1'), (65, '0'), (13, '1'), (30, '\\n'), (77, '0'), (40, '1'), (79, '1'), (49, '1'), (83, '0'), (44, '1'), (85, '\\n'), (33, '\\n'), (89, '0'), (104, '0'), (8, '\\n'), (90, '\\n'), (90, '1'), (11, '0'), (92, '0'), (109, '0'), (66, '1'), (56, '0'), (112, '0'), (113, '0'), (94, '1'), (88, '0'), (112, '1'), (117, '0'), (116, '1'), (80, '1'), (5, '\\n'), (96, '0'), (52, '1'), (67, '0'), (122, '1'), (79, '\\n'), (77, '1'), (99, '1'), (75, '0'), (121, '1'), (60, '1'), (83, '\\n'), (50, '0'), (97, '1'), (43, '\\n'), (87, '\\n'), (87, '1'), (111, '0'), (122, '0'), (92, '\\n'), (77, '\\n'), (50, '\\n'), (140, '0'), (68, '1'), (132, '1'), (62, '0'), (2, '\\n'), (18, '0'), (139, '\\n'), (82, '\\n'), (37, '1')]\n"
     ]
    }
   ],
   "source": [
    "def lz78_compress(data):\n",
    "    compressed = []\n",
    "    dictionary = {}\n",
    "    current_string = \"\"\n",
    "\n",
    "    for char in data:\n",
    "        current_string += char\n",
    "\n",
    "        if current_string not in dictionary:\n",
    "            # Add the current string to the dictionary\n",
    "            index = len(dictionary) + 1\n",
    "            dictionary[current_string] = index\n",
    "\n",
    "            # Output the dictionary index and the character\n",
    "            compressed.append((dictionary.get(current_string[:-1], 0), char))\n",
    "\n",
    "            # Reset the current string\n",
    "            current_string = \"\"\n",
    "\n",
    "    return compressed\n",
    "\n",
    "\n",
    "def lz78_decompress(compressed):\n",
    "    decompressed = []\n",
    "    dictionary = {}\n",
    "\n",
    "    for index, char in compressed:\n",
    "        if index == 0:\n",
    "            # Zero index, just add the character\n",
    "            substring = char\n",
    "        else:\n",
    "            # Reconstruct the substring from the dictionary\n",
    "            substring = dictionary[index] + char\n",
    "\n",
    "        decompressed.append(substring)\n",
    "\n",
    "        # Update the dictionary\n",
    "        dictionary[len(dictionary) + 1] = substring\n",
    "\n",
    "    return ''.join(decompressed)\n",
    "\n",
    "# data = \"The quick brown fox jumps over the lazy dog. The quick brown dog jumps over the lazy fox.\"\n",
    "data = '\\n'.join(action_sequences)\n",
    "compressed_data = lz78_compress(data)\n",
    "decompressed_data = lz78_decompress(compressed_data)\n",
    "\n",
    "print(\"Original data:\", data)\n",
    "print(\"Compressed data:\", compressed_data)\n",
    "# print(\"Decompressed data:\", decompressed_data)"
   ]
  },
  {
   "cell_type": "code",
   "execution_count": 41,
   "metadata": {},
   "outputs": [
    {
     "data": {
      "text/plain": [
       "array(['L1', 'L12', 'L20', 'L25', 'L28', 'L3', 'L4', 'L40', 'L5', 'L7',\n",
       "       'L8', 'L9', 'R1', 'R12', 'R13', 'R16', 'R3', 'R32', 'R4', 'R5',\n",
       "       'R7', 'R8'], dtype='<U3')"
      ]
     },
     "execution_count": 41,
     "metadata": {},
     "output_type": "execute_result"
    }
   ],
   "source": [
    "def printRLE(st):\n",
    "    rle= []\n",
    "    n = len(st)\n",
    "    i = 0\n",
    "    while i < n- 1:\n",
    " \n",
    "        # Count occurrences of \n",
    "        # current character\n",
    "        count = 1\n",
    "        while (i < n - 1 and\n",
    "               st[i] == st[i + 1]):\n",
    "            count += 1\n",
    "            i += 1\n",
    "        i += 1\n",
    " \n",
    "        # Print character and its count\n",
    "        rle.append(st[i - 1] + str(count))\n",
    "    return rle\n",
    "\n",
    " \n",
    "st = \"\".join(action_sequences)\n",
    "new_st = [\"L\" if c == \"0\" else \"R\" for c in st]\n",
    "np.unique(printRLE(new_st))"
   ]
  },
  {
   "cell_type": "code",
   "execution_count": null,
   "metadata": {},
   "outputs": [],
   "source": []
  },
  {
   "cell_type": "code",
   "execution_count": null,
   "metadata": {},
   "outputs": [],
   "source": []
  },
  {
   "cell_type": "code",
   "execution_count": null,
   "metadata": {},
   "outputs": [],
   "source": []
  },
  {
   "cell_type": "code",
   "execution_count": 23,
   "metadata": {},
   "outputs": [
    {
     "data": {
      "text/plain": [
       "'abcdefghijklmnopqrstuvwxyzABCDEFGHIJKLMNOPQRSTUVWXYZ0123456789!\"#$%&()*+,-./:;<='"
      ]
     },
     "execution_count": 23,
     "metadata": {},
     "output_type": "execute_result"
    }
   ],
   "source": [
    "ascii_lowercase = 'abcdefghijklmnopqrstuvwxyz'\n",
    "ascii_uppercase = 'ABCDEFGHIJKLMNOPQRSTUVWXYZ'\n",
    "digits = '0123456789'\n",
    "punc = '!\"#$%&()*+,-./:;<=>?@[\\]^_`{|}~'\n",
    "\n",
    "data = ascii_lowercase + ascii_uppercase + digits + punc\n",
    "data[:80]"
   ]
  },
  {
   "cell_type": "code",
   "execution_count": 20,
   "metadata": {},
   "outputs": [
    {
     "data": {
      "text/plain": [
       "7.15"
      ]
     },
     "execution_count": 20,
     "metadata": {},
     "output_type": "execute_result"
    }
   ],
   "source": [
    "np.average(bit_rates)"
   ]
  },
  {
   "cell_type": "code",
   "execution_count": null,
   "metadata": {},
   "outputs": [],
   "source": []
  },
  {
   "cell_type": "code",
   "execution_count": null,
   "metadata": {},
   "outputs": [],
   "source": [
    "lang_4_2 = [''.join(i) for i in itertools.product('LR', repeat=4)]\n",
    "lang_4_1 = []\n",
    "for l in lang_4_2:\n",
    "    if l[-1] == 'L':\n",
    "        lang_4_1.append(l[:-1] + \"A\")\n",
    "    else:\n",
    "        lang_4_1.append(l[:-1] + \"B\")\n",
    "\n",
    "\n",
    "lang_3_4 = [''.join(i) for i in itertools.product('LR', repeat=3)]\n",
    "lang_3_321 = []\n",
    "for l in lang_3_4:\n",
    "    if l[-1] == 'L':\n",
    "        c = \"A\"\n",
    "    else:\n",
    "        c = \"B\"\n",
    "    lang_3_321.append(l[:-1] + c)\n",
    "    lang_3_321.append(l[:-1] + c + \"2\")\n",
    "    lang_3_321.append(l[:-1] + c + \"3\")\n",
    "    \n",
    "lang_2_2 = [''.join(i) for i in itertools.product('LR', repeat=2)]\n",
    "lang_2_1 = []\n",
    "for l in lang_2_2:\n",
    "    if l[-1] == 'L':\n",
    "        lang_2_1.append(l[:-1] + \"A\")\n",
    "    else:\n",
    "        lang_2_1.append(l[:-1] + \"B\")\n",
    "        \n",
    "        \n",
    "lang_1 = [\"L\", \"R\"]\n",
    "for c in [\"A\", \"B\"]:\n",
    "    lang_1.append(c)\n",
    "    lang_1.append(c + \"2\")\n",
    "    lang_1.append(c + \"3\")\n",
    "\n",
    "\n",
    "lang = np.concatenate([lang_4_2, lang_4_1, lang_3_4, lang_3_321, lang_2_2, lang_2_1, lang_1])"
   ]
  },
  {
   "cell_type": "code",
   "execution_count": null,
   "metadata": {},
   "outputs": [],
   "source": []
  },
  {
   "cell_type": "code",
   "execution_count": null,
   "metadata": {},
   "outputs": [],
   "source": []
  },
  {
   "cell_type": "code",
   "execution_count": null,
   "metadata": {},
   "outputs": [],
   "source": []
  },
  {
   "cell_type": "code",
   "execution_count": null,
   "metadata": {},
   "outputs": [],
   "source": []
  },
  {
   "cell_type": "code",
   "execution_count": 16,
   "metadata": {},
   "outputs": [
    {
     "data": {
      "text/plain": [
       "80"
      ]
     },
     "execution_count": 16,
     "metadata": {},
     "output_type": "execute_result"
    }
   ],
   "source": []
  },
  {
   "cell_type": "code",
   "execution_count": 43,
   "metadata": {},
   "outputs": [
    {
     "data": {
      "text/plain": [
       "<All keys matched successfully>"
      ]
     },
     "execution_count": 43,
     "metadata": {},
     "output_type": "execute_result"
    }
   ],
   "source": [
    "train_dataset, test_dataset = get_dataset()\n",
    "train_data = collate_dataset(train_dataset)\n",
    "test_data = collate_dataset(test_dataset)\n",
    "world_model = AutoencodingWorldModel(.001, 8, .01, .0).to(device)\n",
    "world_model.load_state_dict(torch.load(f\"data/models/{world_model.model_name}.ckpt\"))"
   ]
  },
  {
   "cell_type": "code",
   "execution_count": 44,
   "metadata": {},
   "outputs": [
    {
     "data": {
      "text/plain": [
       "AutoencodingWorldModel(\n",
       "  (state_encoder): Sequential(\n",
       "    (0): Conv2d(3, 8, kernel_size=(3, 5), stride=(1, 1))\n",
       "    (1): SiLU()\n",
       "    (2): Conv2d(8, 8, kernel_size=(3, 3), stride=(1, 1))\n",
       "    (3): SiLU()\n",
       "  )\n",
       "  (state_encoder2): Sequential(\n",
       "    (0): Conv2d(3, 8, kernel_size=(3, 5), stride=(1, 1))\n",
       "    (1): SiLU()\n",
       "    (2): Conv2d(8, 8, kernel_size=(3, 3), stride=(1, 1))\n",
       "    (3): SiLU()\n",
       "  )\n",
       "  (transition_model): Sequential(\n",
       "    (0): Linear(in_features=9, out_features=16, bias=True)\n",
       "    (1): SiLU()\n",
       "    (2): Linear(in_features=16, out_features=16, bias=True)\n",
       "    (3): SiLU()\n",
       "    (4): Linear(in_features=16, out_features=8, bias=True)\n",
       "    (5): SiLU()\n",
       "  )\n",
       "  (state_decoder): Sequential(\n",
       "    (0): ConvTranspose2d(16, 8, kernel_size=(3, 5), stride=(1, 1))\n",
       "    (1): SiLU()\n",
       "    (2): ConvTranspose2d(8, 3, kernel_size=(3, 3), stride=(1, 1))\n",
       "  )\n",
       ")"
      ]
     },
     "execution_count": 44,
     "metadata": {},
     "output_type": "execute_result"
    }
   ],
   "source": [
    "world_model"
   ]
  },
  {
   "cell_type": "code",
   "execution_count": 45,
   "metadata": {},
   "outputs": [],
   "source": [
    "state_rep = world_model.get_state_encoding(train_data[0])"
   ]
  },
  {
   "cell_type": "code",
   "execution_count": 46,
   "metadata": {},
   "outputs": [
    {
     "data": {
      "text/plain": [
       "tensor([[ 0.6137, -0.1550, -0.0591, -0.1374, -0.0929,  0.1557, -0.1741,  1.8393],\n",
       "        [-0.2579, -0.2208, -0.2031, -0.2020, -0.2781,  2.1024,  0.3031,  0.0235],\n",
       "        [ 0.6365, -0.1621, -0.0538, -0.1548, -0.0939,  0.1153, -0.1717,  1.8457],\n",
       "        [-0.2620, -0.2282, -0.1970, -0.2046, -0.2782,  2.0496,  0.2322,  0.0261],\n",
       "        [ 0.5948, -0.1483, -0.0616, -0.1314, -0.0897,  0.1685, -0.1647,  1.8361],\n",
       "        [-0.2609, -0.2278, -0.1947, -0.2211, -0.2768,  2.1379,  0.3580,  0.0032]],\n",
       "       device='cuda:0', grad_fn=<SliceBackward0>)"
      ]
     },
     "execution_count": 46,
     "metadata": {},
     "output_type": "execute_result"
    }
   ],
   "source": [
    "state_rep[::2]"
   ]
  },
  {
   "cell_type": "code",
   "execution_count": 47,
   "metadata": {},
   "outputs": [],
   "source": [
    "results = world_model(train_data[0], train_data[1])"
   ]
  },
  {
   "cell_type": "code",
   "execution_count": 48,
   "metadata": {},
   "outputs": [
    {
     "data": {
      "text/plain": [
       "tensor([[-0.0431,  1.1576,  1.7891,  0.6307, -0.2093, -0.2505, -0.2056, -0.2478],\n",
       "        [ 0.9218, -0.2447, -0.2151, -0.2581,  0.3139,  0.5567,  0.5780,  0.1046],\n",
       "        [-0.0223,  1.2940,  1.8652,  0.4713, -0.2084, -0.2744, -0.1818, -0.1687],\n",
       "        [-0.1769, -0.1093,  0.0320, -0.1566,  0.2063,  0.2662,  0.0186, -0.2228],\n",
       "        [-0.0432,  1.1565,  1.7891,  0.6325, -0.2096, -0.2490, -0.2057, -0.2488],\n",
       "        [ 0.9265, -0.2454, -0.2158, -0.2583,  0.3135,  0.5572,  0.5783,  0.1062],\n",
       "        [-0.0222,  1.2951,  1.8667,  0.4695, -0.2089, -0.2742, -0.1812, -0.1680],\n",
       "        [-0.1795, -0.1092,  0.0343, -0.1560,  0.2055,  0.2654,  0.0154, -0.2237],\n",
       "        [-0.0432,  1.1571,  1.7876,  0.6300, -0.2090, -0.2510, -0.2059, -0.2477],\n",
       "        [ 0.9199, -0.2443, -0.2148, -0.2581,  0.3138,  0.5548,  0.5783,  0.1051],\n",
       "        [-0.0222,  1.2965,  1.8669,  0.4717, -0.2082, -0.2744, -0.1818, -0.1685],\n",
       "        [-0.1796, -0.1079,  0.0335, -0.1559,  0.2057,  0.2655,  0.0171, -0.2237]],\n",
       "       device='cuda:0', grad_fn=<SiluBackward0>)"
      ]
     },
     "execution_count": 48,
     "metadata": {},
     "output_type": "execute_result"
    }
   ],
   "source": [
    "results['next_state_encoding']"
   ]
  },
  {
   "cell_type": "code",
   "execution_count": 49,
   "metadata": {},
   "outputs": [
    {
     "name": "stdout",
     "output_type": "stream",
     "text": [
      "tensor([-0.0431,  1.1576,  1.7891,  0.6307, -0.2093, -0.2505, -0.2056, -0.2478],\n",
      "       device='cuda:0', grad_fn=<UnbindBackward0>)\n",
      "tensor([-0.0432,  1.1565,  1.7891,  0.6325, -0.2096, -0.2490, -0.2057, -0.2488],\n",
      "       device='cuda:0', grad_fn=<UnbindBackward0>)\n",
      "\n",
      "tensor([-0.0431,  1.1576,  1.7891,  0.6307, -0.2093, -0.2505, -0.2056, -0.2478],\n",
      "       device='cuda:0', grad_fn=<UnbindBackward0>)\n",
      "tensor([-0.0432,  1.1571,  1.7876,  0.6300, -0.2090, -0.2510, -0.2059, -0.2477],\n",
      "       device='cuda:0', grad_fn=<UnbindBackward0>)\n",
      "\n",
      "tensor([-0.0432,  1.1565,  1.7891,  0.6325, -0.2096, -0.2490, -0.2057, -0.2488],\n",
      "       device='cuda:0', grad_fn=<UnbindBackward0>)\n",
      "tensor([-0.0432,  1.1571,  1.7876,  0.6300, -0.2090, -0.2510, -0.2059, -0.2477],\n",
      "       device='cuda:0', grad_fn=<UnbindBackward0>)\n",
      "\n",
      "tensor([ 0.9218, -0.2447, -0.2151, -0.2581,  0.3139,  0.5567,  0.5780,  0.1046],\n",
      "       device='cuda:0', grad_fn=<UnbindBackward0>)\n",
      "tensor([ 0.9265, -0.2454, -0.2158, -0.2583,  0.3135,  0.5572,  0.5783,  0.1062],\n",
      "       device='cuda:0', grad_fn=<UnbindBackward0>)\n",
      "\n",
      "tensor([ 0.9218, -0.2447, -0.2151, -0.2581,  0.3139,  0.5567,  0.5780,  0.1046],\n",
      "       device='cuda:0', grad_fn=<UnbindBackward0>)\n",
      "tensor([ 0.9199, -0.2443, -0.2148, -0.2581,  0.3138,  0.5548,  0.5783,  0.1051],\n",
      "       device='cuda:0', grad_fn=<UnbindBackward0>)\n",
      "\n",
      "tensor([ 0.9265, -0.2454, -0.2158, -0.2583,  0.3135,  0.5572,  0.5783,  0.1062],\n",
      "       device='cuda:0', grad_fn=<UnbindBackward0>)\n",
      "tensor([ 0.9199, -0.2443, -0.2148, -0.2581,  0.3138,  0.5548,  0.5783,  0.1051],\n",
      "       device='cuda:0', grad_fn=<UnbindBackward0>)\n",
      "\n",
      "tensor([-0.0223,  1.2940,  1.8652,  0.4713, -0.2084, -0.2744, -0.1818, -0.1687],\n",
      "       device='cuda:0', grad_fn=<UnbindBackward0>)\n",
      "tensor([-0.0222,  1.2951,  1.8667,  0.4695, -0.2089, -0.2742, -0.1812, -0.1680],\n",
      "       device='cuda:0', grad_fn=<UnbindBackward0>)\n",
      "\n",
      "tensor([-0.0223,  1.2940,  1.8652,  0.4713, -0.2084, -0.2744, -0.1818, -0.1687],\n",
      "       device='cuda:0', grad_fn=<UnbindBackward0>)\n",
      "tensor([-0.0222,  1.2965,  1.8669,  0.4717, -0.2082, -0.2744, -0.1818, -0.1685],\n",
      "       device='cuda:0', grad_fn=<UnbindBackward0>)\n",
      "\n",
      "tensor([-0.0222,  1.2951,  1.8667,  0.4695, -0.2089, -0.2742, -0.1812, -0.1680],\n",
      "       device='cuda:0', grad_fn=<UnbindBackward0>)\n",
      "tensor([-0.0222,  1.2965,  1.8669,  0.4717, -0.2082, -0.2744, -0.1818, -0.1685],\n",
      "       device='cuda:0', grad_fn=<UnbindBackward0>)\n",
      "\n",
      "tensor([-0.1769, -0.1093,  0.0320, -0.1566,  0.2063,  0.2662,  0.0186, -0.2228],\n",
      "       device='cuda:0', grad_fn=<UnbindBackward0>)\n",
      "tensor([-0.1795, -0.1092,  0.0343, -0.1560,  0.2055,  0.2654,  0.0154, -0.2237],\n",
      "       device='cuda:0', grad_fn=<UnbindBackward0>)\n",
      "\n",
      "tensor([-0.1769, -0.1093,  0.0320, -0.1566,  0.2063,  0.2662,  0.0186, -0.2228],\n",
      "       device='cuda:0', grad_fn=<UnbindBackward0>)\n",
      "tensor([-0.1796, -0.1079,  0.0335, -0.1559,  0.2057,  0.2655,  0.0171, -0.2237],\n",
      "       device='cuda:0', grad_fn=<UnbindBackward0>)\n",
      "\n",
      "tensor([-0.1795, -0.1092,  0.0343, -0.1560,  0.2055,  0.2654,  0.0154, -0.2237],\n",
      "       device='cuda:0', grad_fn=<UnbindBackward0>)\n",
      "tensor([-0.1796, -0.1079,  0.0335, -0.1559,  0.2057,  0.2655,  0.0171, -0.2237],\n",
      "       device='cuda:0', grad_fn=<UnbindBackward0>)\n",
      "\n",
      "tensor(1.9168e-06, device='cuda:0')\n",
      "tensor(0.0282, device='cuda:0')\n"
     ]
    }
   ],
   "source": [
    "for x, y in zip(results['next_state_encoding'][group_left], results['next_state_encoding'][group_right]):\n",
    "    print(x)\n",
    "    print(y)\n",
    "    print()\n",
    "    \n",
    "with torch.no_grad():\n",
    "    print(nn.functional.mse_loss(results['next_state_encoding'][group_left], results['next_state_encoding'][group_right]))\n",
    "    print(nn.functional.mse_loss(results['next_state'][group_left], train_data[2]))"
   ]
  },
  {
   "cell_type": "code",
   "execution_count": 50,
   "metadata": {},
   "outputs": [],
   "source": [
    "train_results = world_model(train_data[0], train_data[1])\n",
    "test_results = world_model(test_data[0], test_data[1])\n",
    "pred_next_states = torch.cat((train_results[\"next_state\"], test_results[\"next_state\"]), dim=0)\n",
    "pred_states = torch.cat((train_results[\"state\"], test_results[\"state\"]), dim=0)\n",
    "pred_next_state_encodings = torch.cat((train_results[\"next_state_encoding\"], test_results[\"next_state_encoding\"]), dim=0)"
   ]
  },
  {
   "cell_type": "code",
   "execution_count": 51,
   "metadata": {},
   "outputs": [],
   "source": [
    "state_tensors = torch.cat((train_data[0], test_data[0]))\n",
    "action_tensors = torch.cat((train_data[1], test_data[1]))\n",
    "next_state_tensors = torch.cat((train_data[2], test_data[2]))"
   ]
  },
  {
   "cell_type": "code",
   "execution_count": 52,
   "metadata": {},
   "outputs": [
    {
     "ename": "NameError",
     "evalue": "name 'new_state_encoder' is not defined",
     "output_type": "error",
     "traceback": [
      "\u001b[0;31m---------------------------------------------------------------------------\u001b[0m",
      "\u001b[0;31mNameError\u001b[0m                                 Traceback (most recent call last)",
      "Cell \u001b[0;32mIn[52], line 2\u001b[0m\n\u001b[1;32m      1\u001b[0m old_state_encoder2 \u001b[38;5;241m=\u001b[39m copy\u001b[38;5;241m.\u001b[39mdeepcopy(world_model\u001b[38;5;241m.\u001b[39mstate_encoder2)\n\u001b[0;32m----> 2\u001b[0m world_model\u001b[38;5;241m.\u001b[39mstate_encoder2 \u001b[38;5;241m=\u001b[39m \u001b[43mnew_state_encoder\u001b[49m\n\u001b[1;32m      3\u001b[0m new_train_results \u001b[38;5;241m=\u001b[39m world_model(train_data[\u001b[38;5;241m0\u001b[39m], train_data[\u001b[38;5;241m1\u001b[39m])\n\u001b[1;32m      4\u001b[0m new_test_results \u001b[38;5;241m=\u001b[39m world_model(test_data[\u001b[38;5;241m0\u001b[39m], test_data[\u001b[38;5;241m1\u001b[39m])\n",
      "\u001b[0;31mNameError\u001b[0m: name 'new_state_encoder' is not defined"
     ]
    }
   ],
   "source": [
    "old_state_encoder2 = copy.deepcopy(world_model.state_encoder2)\n",
    "world_model.state_encoder2 = new_state_encoder\n",
    "new_train_results = world_model(train_data[0], train_data[1])\n",
    "new_test_results = world_model(test_data[0], test_data[1])\n",
    "new_pred_next_states = torch.cat((new_train_results[\"next_state\"], new_test_results[\"next_state\"]), dim=0)\n",
    "new_pred_states = torch.cat((new_train_results[\"state\"], new_test_results[\"state\"]), dim=0)\n",
    "new_pred_next_state_encodings = torch.cat((new_train_results[\"next_state_encoding\"], new_test_results[\"next_state_encoding\"]), dim=0)\n",
    "world_model.state_encoder2 = old_state_encoder2"
   ]
  },
  {
   "cell_type": "code",
   "execution_count": 108,
   "metadata": {},
   "outputs": [
    {
     "name": "stdout",
     "output_type": "stream",
     "text": [
      "tensor(0.0020, device='cuda:0')\n",
      "tensor(0.0011, device='cuda:0')\n"
     ]
    }
   ],
   "source": [
    "with torch.no_grad():\n",
    "    print(nn.functional.mse_loss(pred_next_states, new_pred_next_states))\n",
    "    print(nn.functional.mse_loss(pred_states, new_pred_states))\n"
   ]
  },
  {
   "cell_type": "code",
   "execution_count": 53,
   "metadata": {},
   "outputs": [],
   "source": [
    "def plot_predicted_transitions():\n",
    "    def plot_pred_transition(ax_row, state, action, next_state, pred_next_state):\n",
    "        ax_row[0].imshow(state.transpose((1, 2, 0)) * 255)\n",
    "        ax_row[0].set_title(f\"Action: {action}\")\n",
    "        ax_row[1].imshow(next_state.transpose((1, 2, 0)) * 255)\n",
    "        ax_row[2].imshow(np.clip(to_np(pred_next_state) * 255, 0, 255).astype(int).transpose((1, 2, 0)))\n",
    "        for ax in ax_row:\n",
    "            ax.set_xticks([])\n",
    "            ax.set_yticks([])\n",
    "    \n",
    "    dataset = train_dataset + test_dataset\n",
    "    n_state_action_pairs = len(dataset)\n",
    "    fig, axes = plt.subplots(n_state_action_pairs, 3, figsize=(3, 12))\n",
    "    for i in range(n_state_action_pairs):\n",
    "        state, action, next_state = dataset[i]\n",
    "        plot_pred_transition(axes[i], state, action, next_state, pred_next_states[i])\n",
    "    plt.show()\n",
    "    \n",
    "    \n",
    "def plot_predicted_new_transitions():\n",
    "    def plot_pred_transition(ax_row, state, action, next_state, pred_next_state, new_pred_next_state):\n",
    "        ax_row[0].imshow(state.transpose((1, 2, 0)) * 255)\n",
    "        ax_row[0].set_title(f\"Action: {action}\")\n",
    "        ax_row[1].imshow(next_state.transpose((1, 2, 0)) * 255)\n",
    "        ax_row[2].imshow(np.clip(to_np(pred_next_state) * 255, 0, 255).astype(int).transpose((1, 2, 0)))\n",
    "        ax_row[3].imshow(np.clip(to_np(new_pred_next_state) * 255, 0, 255).astype(int).transpose((1, 2, 0)))\n",
    "        for ax in ax_row:\n",
    "            ax.set_xticks([])\n",
    "            ax.set_yticks([])\n",
    "    \n",
    "    dataset = train_dataset + test_dataset\n",
    "    n_state_action_pairs = len(dataset)\n",
    "    fig, axes = plt.subplots(n_state_action_pairs, 4, figsize=(4, 12))\n",
    "    for i in range(n_state_action_pairs):\n",
    "        state, action, next_state = dataset[i]\n",
    "        plot_pred_transition(axes[i], state, action, next_state, pred_next_states[i], new_pred_next_states[i])\n",
    "        with torch.no_grad():\n",
    "            print(nn.functional.mse_loss(pred_next_states[i], new_pred_next_states[i]).item())\n",
    "    plt.show()"
   ]
  },
  {
   "cell_type": "code",
   "execution_count": 54,
   "metadata": {},
   "outputs": [
    {
     "data": {
      "image/png": "[encoded data removed]",
      "text/plain": [
       "<Figure size 300x1200 with 48 Axes>"
      ]
     },
     "metadata": {},
     "output_type": "display_data"
    }
   ],
   "source": [
    "plot_predicted_transitions()"
   ]
  },
  {
   "cell_type": "code",
   "execution_count": 109,
   "metadata": {},
   "outputs": [
    {
     "name": "stdout",
     "output_type": "stream",
     "text": [
      "1.0960559848172124e-05\n",
      "1.29565914903651e-05\n",
      "1.046907709678635e-05\n",
      "7.2831089710234664e-06\n",
      "2.0284374841139652e-05\n",
      "2.1782712792628445e-05\n",
      "3.243495666538365e-05\n",
      "2.549183955125045e-05\n",
      "5.4425563575932756e-05\n",
      "0.000278989493381232\n",
      "3.952815313823521e-05\n",
      "2.6616982722771354e-05\n",
      "0.0045551578514277935\n",
      "0.019754445180296898\n",
      "0.0018118084408342838\n",
      "0.005290661007165909\n"
     ]
    },
    {
     "data": {
      "image/png": "[encoded data removed]",
      "text/plain": [
       "<Figure size 400x1200 with 64 Axes>"
      ]
     },
     "metadata": {},
     "output_type": "display_data"
    }
   ],
   "source": [
    "plot_predicted_new_transitions()"
   ]
  },
  {
   "cell_type": "code",
   "execution_count": null,
   "metadata": {},
   "outputs": [],
   "source": []
  },
  {
   "cell_type": "code",
   "execution_count": 64,
   "metadata": {},
   "outputs": [
    {
     "data": {
      "image/png": "[encoded data removed]",
      "text/plain": [
       "<Figure size 640x480 with 1 Axes>"
      ]
     },
     "metadata": {},
     "output_type": "display_data"
    }
   ],
   "source": [
    "def plot_representations(next_state_encodings):\n",
    "    next_state_representations = to_np(next_state_encodings)\n",
    "    next_state_representations = TSNE(perplexity=2).fit_transform(next_state_representations)\n",
    "    # colors = [\"red\", \"blue\", \"black\", \"green\"]\n",
    "    colors = [\"red\", \"blue\"]\n",
    "    markers = [\"<\", \">\"]\n",
    "    for s in range(8):\n",
    "    # for s in range(6):\n",
    "        for a in range(2):\n",
    "            i = np.ravel_multi_index((s, a), (8, 2))\n",
    "            c = colors[(i//2) % 2]\n",
    "            m = markers[a]\n",
    "            plt.scatter(next_state_representations[i, 0], next_state_representations[i, 1], c=c, marker=m)\n",
    "    plt.show()\n",
    "    \n",
    "# plot_representations(pred_next_state_encodings[:-4])\n",
    "plot_representations(pred_next_state_encodings)"
   ]
  },
  {
   "cell_type": "code",
   "execution_count": 58,
   "metadata": {},
   "outputs": [
    {
     "name": "stdout",
     "output_type": "stream",
     "text": [
      "[[-0.04  1.16  1.79  0.63 -0.21 -0.25 -0.21 -0.25]\n",
      " [-0.04  1.16  1.79  0.63 -0.21 -0.25 -0.21 -0.25]\n",
      " [-0.04  1.16  1.79  0.63 -0.21 -0.25 -0.21 -0.25]\n",
      " [-0.03  1.21  1.83  0.57 -0.21 -0.28 -0.19 -0.21]]\n",
      "\n",
      "[[ 0.92 -0.24 -0.22 -0.26  0.31  0.56  0.58  0.1 ]\n",
      " [ 0.93 -0.25 -0.22 -0.26  0.31  0.56  0.58  0.11]\n",
      " [ 0.92 -0.24 -0.21 -0.26  0.31  0.55  0.58  0.11]\n",
      " [ 0.46 -0.21 -0.14 -0.23  0.28  0.42  0.36 -0.04]]\n",
      "\n",
      "[[-0.02  1.29  1.87  0.47 -0.21 -0.27 -0.18 -0.17]\n",
      " [-0.02  1.3   1.87  0.47 -0.21 -0.27 -0.18 -0.17]\n",
      " [-0.02  1.3   1.87  0.47 -0.21 -0.27 -0.18 -0.17]\n",
      " [-0.03  1.22  1.83  0.54 -0.21 -0.28 -0.19 -0.2 ]]\n",
      "\n",
      "[[-0.18 -0.11  0.03 -0.16  0.21  0.27  0.02 -0.22]\n",
      " [-0.18 -0.11  0.03 -0.16  0.21  0.27  0.02 -0.22]\n",
      " [-0.18 -0.11  0.03 -0.16  0.21  0.27  0.02 -0.22]\n",
      " [ 0.25 -0.19 -0.1  -0.21  0.27  0.37  0.26 -0.1 ]]\n",
      "\n"
     ]
    }
   ],
   "source": [
    "with np.printoptions(precision=2):\n",
    "    for i in range(4):\n",
    "        print(to_np(pred_next_state_encodings)[i::4])\n",
    "        print()"
   ]
  },
  {
   "cell_type": "code",
   "execution_count": 60,
   "metadata": {},
   "outputs": [
    {
     "data": {
      "text/plain": [
       "(16, 8)"
      ]
     },
     "execution_count": 60,
     "metadata": {},
     "output_type": "execute_result"
    }
   ],
   "source": [
    "to_np(pred_next_state_encodings).shape"
   ]
  },
  {
   "cell_type": "code",
   "execution_count": 84,
   "metadata": {},
   "outputs": [],
   "source": [
    "def train_state_encoder(n_minibatches):\n",
    "    import copy\n",
    "    new_state_encoder = copy.deepcopy(world_model.state_encoder2)\n",
    "    \n",
    "    with torch.no_grad():\n",
    "        target_state_encodings = world_model.state_encoder2(state_tensors[:-4]).squeeze(-1).squeeze(-1)\n",
    "    \n",
    "    print(target_state_encodings[0])\n",
    "    \n",
    "    opt = torch.optim.Adam(new_state_encoder.parameters(), lr=0.001)\n",
    "    recon_losses, rep_shift_penalties, losses = [], [], []\n",
    "    \n",
    "    for i in range(n_minibatches):\n",
    "        state_encodings = new_state_encoder(state_tensors).squeeze(-1).squeeze(-1)\n",
    "        if i == 0:\n",
    "            print(state_encodings)\n",
    "        recon_state = world_model.state_decoder(torch.cat((torch.zeros_like(state_encodings), state_encodings), dim=-1).unsqueeze(-1).unsqueeze(-1))\n",
    "        recon_loss = nn.functional.mse_loss(recon_state, state_tensors)\n",
    "        # rep_shift_penalty = nn.functional.mse_loss(state_encodings[:-4], target_state_encodings)\n",
    "        rep_shift_penalty = torch.tensor(0)\n",
    "        if i == 0:\n",
    "            print(state_encodings[0])\n",
    "            print(target_state_encodings[0])\n",
    "        loss = recon_loss + rep_shift_penalty\n",
    "        \n",
    "        recon_losses.append(recon_loss.item())\n",
    "        rep_shift_penalties.append(rep_shift_penalty.item())\n",
    "        losses.append(loss.item())\n",
    "        \n",
    "        opt.zero_grad()\n",
    "        loss.backward()\n",
    "        opt.step()\n",
    "        \n",
    "    plt.plot(range(n_minibatches), recon_losses, label=\"recon\")\n",
    "    plt.plot(range(n_minibatches), rep_shift_penalties, label=\"rep\")\n",
    "    plt.plot(range(n_minibatches), losses, label=\"losses\")\n",
    "    plt.legend()\n",
    "    plt.show()\n",
    "        \n",
    "    return new_state_encoder"
   ]
  },
  {
   "cell_type": "code",
   "execution_count": 85,
   "metadata": {},
   "outputs": [
    {
     "name": "stdout",
     "output_type": "stream",
     "text": [
      "tensor([-0.0133,  3.2225,  1.2059, -0.2016,  3.0259,  2.0262, -0.2373,  3.0757],\n",
      "       device='cuda:0')\n",
      "tensor([[-0.0133,  3.2225,  1.2059, -0.2016,  3.0259,  2.0262, -0.2373,  3.0757],\n",
      "        [-0.0133,  3.2225,  1.2059, -0.2016,  3.0259,  2.0262, -0.2373,  3.0757],\n",
      "        [ 0.8294,  4.1462,  1.1982, -0.1542, -0.0890,  2.1625, -0.0611,  3.7086],\n",
      "        [ 0.8294,  4.1462,  1.1982, -0.1542, -0.0890,  2.1625, -0.0611,  3.7086],\n",
      "        [ 3.2327,  0.8456,  2.5465, -0.1693,  3.4664, -0.1370, -0.1742,  2.2462],\n",
      "        [ 3.2327,  0.8456,  2.5465, -0.1693,  3.4664, -0.1370, -0.1742,  2.2462],\n",
      "        [ 4.1235,  1.7296,  2.0911, -0.2311,  0.0931, -0.1731, -0.2251,  2.6873],\n",
      "        [ 4.1235,  1.7296,  2.0911, -0.2311,  0.0931, -0.1731, -0.2251,  2.6873],\n",
      "        [ 0.2719, -0.1533,  3.8603, -0.2777,  2.0735,  2.7478, -0.2227,  3.4815],\n",
      "        [ 0.2719, -0.1533,  3.8603, -0.2777,  2.0735,  2.7478, -0.2227,  3.4815],\n",
      "        [ 1.0848,  1.2646,  4.2658, -0.2320, -0.2298,  2.8810, -0.2163,  2.3484],\n",
      "        [ 1.0848,  1.2646,  4.2658, -0.2320, -0.2298,  2.8810, -0.2163,  2.3484],\n",
      "        [ 1.6373,  1.9792,  1.9824, -0.2338,  1.3149,  1.6737, -0.1815,  2.8966],\n",
      "        [ 1.6373,  1.9792,  1.9824, -0.2338,  1.3149,  1.6737, -0.1815,  2.8966],\n",
      "        [ 1.3720,  2.1870,  2.3943, -0.1952,  1.0164,  1.6207, -0.1800,  2.7590],\n",
      "        [ 1.3720,  2.1870,  2.3943, -0.1952,  1.0164,  1.6207, -0.1800,  2.7590]],\n",
      "       device='cuda:0', grad_fn=<SqueezeBackward1>)\n",
      "tensor([-0.0133,  3.2225,  1.2059, -0.2016,  3.0259,  2.0262, -0.2373,  3.0757],\n",
      "       device='cuda:0', grad_fn=<SelectBackward0>)\n",
      "tensor([-0.0133,  3.2225,  1.2059, -0.2016,  3.0259,  2.0262, -0.2373,  3.0757],\n",
      "       device='cuda:0')\n"
     ]
    },
    {
     "data": {
      "image/png": "[encoded data removed]",
      "text/plain": [
       "<Figure size 640x480 with 1 Axes>"
      ]
     },
     "metadata": {},
     "output_type": "display_data"
    }
   ],
   "source": [
    "new_state_encoder = train_state_encoder(4000)"
   ]
  },
  {
   "cell_type": "code",
   "execution_count": 83,
   "metadata": {},
   "outputs": [
    {
     "data": {
      "image/png": "[encoded data removed]",
      "text/plain": [
       "<Figure size 640x480 with 1 Axes>"
      ]
     },
     "metadata": {},
     "output_type": "display_data"
    },
    {
     "data": {
      "image/png": "[encoded data removed]",
      "text/plain": [
       "<Figure size 640x480 with 4 Axes>"
      ]
     },
     "metadata": {},
     "output_type": "display_data"
    }
   ],
   "source": [
    "def train_best_encoding(n_minibatches):\n",
    "    # import copy\n",
    "    # new_state_encoder = copy.deepcopy(world_model.state_encoder2)\n",
    "    \n",
    "    # with torch.no_grad():\n",
    "    #     target_state_encodings = world_model.state_encoder2(state_tensors[:-4]).squeeze(-1).squeeze(-1)\n",
    "    \n",
    "    # print(target_state_encodings[0])\n",
    "    \n",
    "    state_encodings = torch.ones((4, 8)).float().to(device)\n",
    "    state_encodings.requires_grad = True\n",
    "    \n",
    "    opt = torch.optim.Adam([state_encodings], lr=0.001)\n",
    "    recon_losses, rep_shift_penalties, losses = [], [], []\n",
    "    \n",
    "    \n",
    "    fig, ax = plt.subplots(1, 1)\n",
    "    \n",
    "    for i in range(n_minibatches):\n",
    "        # state_encodings = new_state_encoder(state_tensors).squeeze(-1).squeeze(-1)\n",
    "        recon_state = world_model.state_decoder(torch.cat((torch.zeros_like(state_encodings), state_encodings), dim=-1).unsqueeze(-1).unsqueeze(-1))\n",
    "        recon_loss = nn.functional.mse_loss(recon_state, state_tensors[-4:])\n",
    "        # rep_shift_penalty = nn.functional.mse_loss(state_encodings[:-4], target_state_encodings)\n",
    "        rep_shift_penalty = torch.tensor(0)\n",
    "        loss = recon_loss + rep_shift_penalty\n",
    "        \n",
    "        recon_losses.append(recon_loss.item())\n",
    "        rep_shift_penalties.append(rep_shift_penalty.item())\n",
    "        losses.append(loss.item())\n",
    "        \n",
    "        opt.zero_grad()\n",
    "        loss.backward()\n",
    "        opt.step()\n",
    "        \n",
    "    ax.plot(range(n_minibatches), recon_losses, label=\"recon\")\n",
    "    ax.plot(range(n_minibatches), rep_shift_penalties, label=\"rep\")\n",
    "    ax.plot(range(n_minibatches), losses, label=\"losses\")\n",
    "    ax.legend()\n",
    "    \n",
    "    plt.show()\n",
    "    \n",
    "    new_pred_state = world_model.state_decoder(torch.cat((torch.zeros_like(state_encodings), state_encodings), dim=-1).unsqueeze(-1).unsqueeze(-1))\n",
    "    \n",
    "    fig, axes = plt.subplots(1, 4)\n",
    "\n",
    "    for i in range(4):\n",
    "        ax = axes[i]\n",
    "        ax.imshow(np.clip(to_np(new_pred_state[i]) * 255, 0, 255).astype(int).transpose((1, 2, 0)))\n",
    "        ax.set_xticks([])\n",
    "        ax.set_yticks([])\n",
    "    \n",
    "    plt.show()\n",
    "        \n",
    "    # return state_encodings\n",
    "\n",
    "train_best_encoding(10000)"
   ]
  },
  {
   "cell_type": "code",
   "execution_count": 86,
   "metadata": {},
   "outputs": [
    {
     "data": {
      "image/png": "[encoded data removed]",
      "text/plain": [
       "<Figure size 300x1200 with 48 Axes>"
      ]
     },
     "metadata": {},
     "output_type": "display_data"
    }
   ],
   "source": [
    "@torch.no_grad()\n",
    "def autoencode_new(new_state_encoder):\n",
    "    state_enc = world_model.state_encoder2(state_tensors)\n",
    "    new_state_enc = new_state_encoder(state_tensors)\n",
    "    \n",
    "    recon_state = world_model.state_decoder(torch.cat((torch.zeros_like(state_enc), state_enc), dim=1))\n",
    "    new_recon_state = world_model.state_decoder(torch.cat((torch.zeros_like(state_enc), new_state_enc), dim=1))\n",
    "\n",
    "    def plot_pred_transition(ax_row, state, pred_state, new_pred_state):\n",
    "        ax_row[0].imshow(state.transpose((1, 2, 0)) * 255)\n",
    "        ax_row[1].imshow(np.clip(to_np(pred_state) * 255, 0, 255).astype(int).transpose((1, 2, 0)))\n",
    "        ax_row[2].imshow(np.clip(to_np(new_pred_state) * 255, 0, 255).astype(int).transpose((1, 2, 0)))\n",
    "        for ax in ax_row:\n",
    "            ax.set_xticks([])\n",
    "            ax.set_yticks([])\n",
    "    \n",
    "    dataset = train_dataset + test_dataset\n",
    "    n_state_action_pairs = len(dataset)\n",
    "    fig, axes = plt.subplots(n_state_action_pairs, 3, figsize=(3, 12))\n",
    "    for i in range(n_state_action_pairs):\n",
    "        state, _, _ = dataset[i]\n",
    "        plot_pred_transition(axes[i], state, recon_state[i], new_recon_state[i])\n",
    "    plt.show()\n",
    "    \n",
    "autoencode_new(new_state_encoder)"
   ]
  },
  {
   "cell_type": "code",
   "execution_count": null,
   "metadata": {},
   "outputs": [],
   "source": [
    "new_state_encoder"
   ]
  },
  {
   "cell_type": "code",
   "execution_count": 18,
   "metadata": {},
   "outputs": [],
   "source": [
    "def backprop_input(target, n_steps):\n",
    "    next_state_enc = torch.ones((16, 8, 1, 1)).float().to(device)\n",
    "    next_state_enc.requires_grad = True\n",
    "    opt = torch.optim.Adam([next_state_enc], lr=.001)\n",
    "    \n",
    "    for _ in range(n_steps):\n",
    "        pred_next_state = world_model.state_decoder(next_state_enc)\n",
    "        loss = nn.functional.mse_loss(pred_next_state, target) + .1 * nn.functional.mse_loss(next_state_enc[group_left], next_state_enc[group_right])\n",
    "        opt.zero_grad()\n",
    "        loss.backward()\n",
    "        opt.step()\n",
    "    return to_np(next_state_enc.squeeze())"
   ]
  },
  {
   "cell_type": "code",
   "execution_count": 19,
   "metadata": {},
   "outputs": [
    {
     "ename": "RuntimeError",
     "evalue": "Given transposed=1, weight of size [16, 8, 3, 5], expected input[16, 8, 1, 1] to have 16 channels, but got 8 channels instead",
     "output_type": "error",
     "traceback": [
      "\u001b[0;31m---------------------------------------------------------------------------\u001b[0m",
      "\u001b[0;31mRuntimeError\u001b[0m                              Traceback (most recent call last)",
      "Cell \u001b[0;32mIn[19], line 1\u001b[0m\n\u001b[0;32m----> 1\u001b[0m expected_next_state_encodings \u001b[38;5;241m=\u001b[39m \u001b[43mbackprop_input\u001b[49m\u001b[43m(\u001b[49m\u001b[43mnext_state_tensors\u001b[49m\u001b[38;5;241;43m.\u001b[39;49m\u001b[43mdetach\u001b[49m\u001b[43m(\u001b[49m\u001b[43m)\u001b[49m\u001b[43m,\u001b[49m\u001b[43m \u001b[49m\u001b[43mn_steps\u001b[49m\u001b[38;5;241;43m=\u001b[39;49m\u001b[38;5;241;43m1000\u001b[39;49m\u001b[43m)\u001b[49m\n",
      "Cell \u001b[0;32mIn[18], line 7\u001b[0m, in \u001b[0;36mbackprop_input\u001b[0;34m(target, n_steps)\u001b[0m\n\u001b[1;32m      4\u001b[0m opt \u001b[38;5;241m=\u001b[39m torch\u001b[38;5;241m.\u001b[39moptim\u001b[38;5;241m.\u001b[39mAdam([next_state_enc], lr\u001b[38;5;241m=\u001b[39m\u001b[38;5;241m.001\u001b[39m)\n\u001b[1;32m      6\u001b[0m \u001b[38;5;28;01mfor\u001b[39;00m _ \u001b[38;5;129;01min\u001b[39;00m \u001b[38;5;28mrange\u001b[39m(n_steps):\n\u001b[0;32m----> 7\u001b[0m     pred_next_state \u001b[38;5;241m=\u001b[39m \u001b[43mworld_model\u001b[49m\u001b[38;5;241;43m.\u001b[39;49m\u001b[43mstate_decoder\u001b[49m\u001b[43m(\u001b[49m\u001b[43mnext_state_enc\u001b[49m\u001b[43m)\u001b[49m\n\u001b[1;32m      8\u001b[0m     loss \u001b[38;5;241m=\u001b[39m nn\u001b[38;5;241m.\u001b[39mfunctional\u001b[38;5;241m.\u001b[39mmse_loss(pred_next_state, target) \u001b[38;5;241m+\u001b[39m \u001b[38;5;241m.1\u001b[39m \u001b[38;5;241m*\u001b[39m nn\u001b[38;5;241m.\u001b[39mfunctional\u001b[38;5;241m.\u001b[39mmse_loss(next_state_enc[group_left], next_state_enc[group_right])\n\u001b[1;32m      9\u001b[0m     opt\u001b[38;5;241m.\u001b[39mzero_grad()\n",
      "File \u001b[0;32m~/mambaforge/envs/diffusion/lib/python3.11/site-packages/torch/nn/modules/module.py:1501\u001b[0m, in \u001b[0;36mModule._call_impl\u001b[0;34m(self, *args, **kwargs)\u001b[0m\n\u001b[1;32m   1496\u001b[0m \u001b[38;5;66;03m# If we don't have any hooks, we want to skip the rest of the logic in\u001b[39;00m\n\u001b[1;32m   1497\u001b[0m \u001b[38;5;66;03m# this function, and just call forward.\u001b[39;00m\n\u001b[1;32m   1498\u001b[0m \u001b[38;5;28;01mif\u001b[39;00m \u001b[38;5;129;01mnot\u001b[39;00m (\u001b[38;5;28mself\u001b[39m\u001b[38;5;241m.\u001b[39m_backward_hooks \u001b[38;5;129;01mor\u001b[39;00m \u001b[38;5;28mself\u001b[39m\u001b[38;5;241m.\u001b[39m_backward_pre_hooks \u001b[38;5;129;01mor\u001b[39;00m \u001b[38;5;28mself\u001b[39m\u001b[38;5;241m.\u001b[39m_forward_hooks \u001b[38;5;129;01mor\u001b[39;00m \u001b[38;5;28mself\u001b[39m\u001b[38;5;241m.\u001b[39m_forward_pre_hooks\n\u001b[1;32m   1499\u001b[0m         \u001b[38;5;129;01mor\u001b[39;00m _global_backward_pre_hooks \u001b[38;5;129;01mor\u001b[39;00m _global_backward_hooks\n\u001b[1;32m   1500\u001b[0m         \u001b[38;5;129;01mor\u001b[39;00m _global_forward_hooks \u001b[38;5;129;01mor\u001b[39;00m _global_forward_pre_hooks):\n\u001b[0;32m-> 1501\u001b[0m     \u001b[38;5;28;01mreturn\u001b[39;00m \u001b[43mforward_call\u001b[49m\u001b[43m(\u001b[49m\u001b[38;5;241;43m*\u001b[39;49m\u001b[43margs\u001b[49m\u001b[43m,\u001b[49m\u001b[43m \u001b[49m\u001b[38;5;241;43m*\u001b[39;49m\u001b[38;5;241;43m*\u001b[39;49m\u001b[43mkwargs\u001b[49m\u001b[43m)\u001b[49m\n\u001b[1;32m   1502\u001b[0m \u001b[38;5;66;03m# Do not call functions when jit is used\u001b[39;00m\n\u001b[1;32m   1503\u001b[0m full_backward_hooks, non_full_backward_hooks \u001b[38;5;241m=\u001b[39m [], []\n",
      "File \u001b[0;32m~/mambaforge/envs/diffusion/lib/python3.11/site-packages/torch/nn/modules/container.py:217\u001b[0m, in \u001b[0;36mSequential.forward\u001b[0;34m(self, input)\u001b[0m\n\u001b[1;32m    215\u001b[0m \u001b[38;5;28;01mdef\u001b[39;00m \u001b[38;5;21mforward\u001b[39m(\u001b[38;5;28mself\u001b[39m, \u001b[38;5;28minput\u001b[39m):\n\u001b[1;32m    216\u001b[0m     \u001b[38;5;28;01mfor\u001b[39;00m module \u001b[38;5;129;01min\u001b[39;00m \u001b[38;5;28mself\u001b[39m:\n\u001b[0;32m--> 217\u001b[0m         \u001b[38;5;28minput\u001b[39m \u001b[38;5;241m=\u001b[39m \u001b[43mmodule\u001b[49m\u001b[43m(\u001b[49m\u001b[38;5;28;43minput\u001b[39;49m\u001b[43m)\u001b[49m\n\u001b[1;32m    218\u001b[0m     \u001b[38;5;28;01mreturn\u001b[39;00m \u001b[38;5;28minput\u001b[39m\n",
      "File \u001b[0;32m~/mambaforge/envs/diffusion/lib/python3.11/site-packages/torch/nn/modules/module.py:1501\u001b[0m, in \u001b[0;36mModule._call_impl\u001b[0;34m(self, *args, **kwargs)\u001b[0m\n\u001b[1;32m   1496\u001b[0m \u001b[38;5;66;03m# If we don't have any hooks, we want to skip the rest of the logic in\u001b[39;00m\n\u001b[1;32m   1497\u001b[0m \u001b[38;5;66;03m# this function, and just call forward.\u001b[39;00m\n\u001b[1;32m   1498\u001b[0m \u001b[38;5;28;01mif\u001b[39;00m \u001b[38;5;129;01mnot\u001b[39;00m (\u001b[38;5;28mself\u001b[39m\u001b[38;5;241m.\u001b[39m_backward_hooks \u001b[38;5;129;01mor\u001b[39;00m \u001b[38;5;28mself\u001b[39m\u001b[38;5;241m.\u001b[39m_backward_pre_hooks \u001b[38;5;129;01mor\u001b[39;00m \u001b[38;5;28mself\u001b[39m\u001b[38;5;241m.\u001b[39m_forward_hooks \u001b[38;5;129;01mor\u001b[39;00m \u001b[38;5;28mself\u001b[39m\u001b[38;5;241m.\u001b[39m_forward_pre_hooks\n\u001b[1;32m   1499\u001b[0m         \u001b[38;5;129;01mor\u001b[39;00m _global_backward_pre_hooks \u001b[38;5;129;01mor\u001b[39;00m _global_backward_hooks\n\u001b[1;32m   1500\u001b[0m         \u001b[38;5;129;01mor\u001b[39;00m _global_forward_hooks \u001b[38;5;129;01mor\u001b[39;00m _global_forward_pre_hooks):\n\u001b[0;32m-> 1501\u001b[0m     \u001b[38;5;28;01mreturn\u001b[39;00m \u001b[43mforward_call\u001b[49m\u001b[43m(\u001b[49m\u001b[38;5;241;43m*\u001b[39;49m\u001b[43margs\u001b[49m\u001b[43m,\u001b[49m\u001b[43m \u001b[49m\u001b[38;5;241;43m*\u001b[39;49m\u001b[38;5;241;43m*\u001b[39;49m\u001b[43mkwargs\u001b[49m\u001b[43m)\u001b[49m\n\u001b[1;32m   1502\u001b[0m \u001b[38;5;66;03m# Do not call functions when jit is used\u001b[39;00m\n\u001b[1;32m   1503\u001b[0m full_backward_hooks, non_full_backward_hooks \u001b[38;5;241m=\u001b[39m [], []\n",
      "File \u001b[0;32m~/mambaforge/envs/diffusion/lib/python3.11/site-packages/torch/nn/modules/conv.py:956\u001b[0m, in \u001b[0;36mConvTranspose2d.forward\u001b[0;34m(self, input, output_size)\u001b[0m\n\u001b[1;32m    951\u001b[0m num_spatial_dims \u001b[38;5;241m=\u001b[39m \u001b[38;5;241m2\u001b[39m\n\u001b[1;32m    952\u001b[0m output_padding \u001b[38;5;241m=\u001b[39m \u001b[38;5;28mself\u001b[39m\u001b[38;5;241m.\u001b[39m_output_padding(\n\u001b[1;32m    953\u001b[0m     \u001b[38;5;28minput\u001b[39m, output_size, \u001b[38;5;28mself\u001b[39m\u001b[38;5;241m.\u001b[39mstride, \u001b[38;5;28mself\u001b[39m\u001b[38;5;241m.\u001b[39mpadding, \u001b[38;5;28mself\u001b[39m\u001b[38;5;241m.\u001b[39mkernel_size,  \u001b[38;5;66;03m# type: ignore[arg-type]\u001b[39;00m\n\u001b[1;32m    954\u001b[0m     num_spatial_dims, \u001b[38;5;28mself\u001b[39m\u001b[38;5;241m.\u001b[39mdilation)  \u001b[38;5;66;03m# type: ignore[arg-type]\u001b[39;00m\n\u001b[0;32m--> 956\u001b[0m \u001b[38;5;28;01mreturn\u001b[39;00m \u001b[43mF\u001b[49m\u001b[38;5;241;43m.\u001b[39;49m\u001b[43mconv_transpose2d\u001b[49m\u001b[43m(\u001b[49m\n\u001b[1;32m    957\u001b[0m \u001b[43m    \u001b[49m\u001b[38;5;28;43minput\u001b[39;49m\u001b[43m,\u001b[49m\u001b[43m \u001b[49m\u001b[38;5;28;43mself\u001b[39;49m\u001b[38;5;241;43m.\u001b[39;49m\u001b[43mweight\u001b[49m\u001b[43m,\u001b[49m\u001b[43m \u001b[49m\u001b[38;5;28;43mself\u001b[39;49m\u001b[38;5;241;43m.\u001b[39;49m\u001b[43mbias\u001b[49m\u001b[43m,\u001b[49m\u001b[43m \u001b[49m\u001b[38;5;28;43mself\u001b[39;49m\u001b[38;5;241;43m.\u001b[39;49m\u001b[43mstride\u001b[49m\u001b[43m,\u001b[49m\u001b[43m \u001b[49m\u001b[38;5;28;43mself\u001b[39;49m\u001b[38;5;241;43m.\u001b[39;49m\u001b[43mpadding\u001b[49m\u001b[43m,\u001b[49m\n\u001b[1;32m    958\u001b[0m \u001b[43m    \u001b[49m\u001b[43moutput_padding\u001b[49m\u001b[43m,\u001b[49m\u001b[43m \u001b[49m\u001b[38;5;28;43mself\u001b[39;49m\u001b[38;5;241;43m.\u001b[39;49m\u001b[43mgroups\u001b[49m\u001b[43m,\u001b[49m\u001b[43m \u001b[49m\u001b[38;5;28;43mself\u001b[39;49m\u001b[38;5;241;43m.\u001b[39;49m\u001b[43mdilation\u001b[49m\u001b[43m)\u001b[49m\n",
      "\u001b[0;31mRuntimeError\u001b[0m: Given transposed=1, weight of size [16, 8, 3, 5], expected input[16, 8, 1, 1] to have 16 channels, but got 8 channels instead"
     ]
    }
   ],
   "source": [
    "expected_next_state_encodings = backprop_input(next_state_tensors.detach(), n_steps=1000)"
   ]
  },
  {
   "cell_type": "code",
   "execution_count": 18,
   "metadata": {},
   "outputs": [
    {
     "name": "stdout",
     "output_type": "stream",
     "text": [
      "[ 2.32  3.89 -0.19  4.63 -0.16  5.08 -0.13 -0.12]\n",
      "[0.39 0.77 0.24 0.69 0.23 0.42 0.31 0.29]\n",
      "\n",
      "[ 4.41  3.   -0.15  4.68 -0.2   4.26 -0.06 -0.24]\n",
      "[0.42 0.85 0.26 0.48 0.22 0.41 0.27 0.29]\n",
      "\n",
      "[ 2.28  3.9  -0.19  4.61 -0.16  5.09 -0.13 -0.11]\n",
      "[0.39 0.77 0.24 0.69 0.23 0.42 0.31 0.29]\n",
      "\n",
      "[ 4.41  2.99 -0.16  4.66 -0.2   4.24 -0.06 -0.24]\n",
      "[0.42 0.85 0.26 0.48 0.22 0.41 0.27 0.29]\n",
      "\n",
      "[ 2.32  3.85 -0.12  4.61 -0.28  5.14 -0.15 -0.11]\n",
      "[0.38 0.56 0.26 0.52 0.22 0.44 0.27 0.28]\n",
      "\n",
      "[ 4.34  2.88 -0.19  4.83 -0.22  4.23 -0.12 -0.22]\n",
      "[0.39 0.65 0.24 0.78 0.21 0.39 0.26 0.28]\n",
      "\n",
      "[ 2.29  3.86 -0.12  4.59 -0.28  5.14 -0.15 -0.1 ]\n",
      "[0.38 0.56 0.26 0.52 0.22 0.44 0.27 0.28]\n",
      "\n",
      "[ 4.34  2.88 -0.19  4.81 -0.22  4.22 -0.13 -0.21]\n",
      "[0.39 0.65 0.24 0.78 0.21 0.39 0.26 0.28]\n",
      "\n",
      "[ 2.32  3.91 -0.09  4.63 -0.18  5.08 -0.21 -0.16]\n",
      "[0.38 0.82 0.29 0.71 0.22 0.41 0.26 0.28]\n",
      "\n",
      "[ 4.37  2.9  -0.09  4.78 -0.17  4.27 -0.06 -0.17]\n",
      "[0.42 0.63 0.28 0.68 0.24 0.44 0.29 0.31]\n",
      "\n",
      "[ 2.28  3.91 -0.08  4.62 -0.18  5.07 -0.21 -0.15]\n",
      "[0.38 0.82 0.29 0.71 0.22 0.41 0.26 0.28]\n",
      "\n",
      "[ 4.36  2.89 -0.09  4.76 -0.17  4.26 -0.07 -0.16]\n",
      "[0.42 0.63 0.28 0.68 0.24 0.44 0.29 0.31]\n",
      "\n",
      "[ 2.15  3.78 -0.24  4.47 -0.21  4.95 -0.16 -0.12]\n",
      "[0.38 0.65 0.26 0.6  0.23 0.41 0.27 0.28]\n",
      "\n",
      "[ 4.25  2.79 -0.23  4.6  -0.26  4.05 -0.09 -0.21]\n",
      "[0.39 0.66 0.26 0.61 0.23 0.41 0.27 0.28]\n",
      "\n",
      "[ 2.39  3.91 -0.06  4.7  -0.28  5.22 -0.15 -0.1 ]\n",
      "[0.38 0.65 0.26 0.6  0.23 0.41 0.27 0.28]\n",
      "\n",
      "[ 4.4   2.91 -0.14  4.88 -0.19  4.34 -0.12 -0.21]\n",
      "[0.39 0.66 0.26 0.61 0.23 0.41 0.27 0.28]\n",
      "\n"
     ]
    }
   ],
   "source": [
    "with np.printoptions(precision=2):\n",
    "    for a, b in zip(to_np(pred_next_state_encodings), expected_next_state_encodings):\n",
    "        print(a)\n",
    "        print(b)\n",
    "        print()"
   ]
  },
  {
   "cell_type": "code",
   "execution_count": 22,
   "metadata": {},
   "outputs": [
    {
     "data": {
      "image/png": "[encoded data removed]",
      "text/plain": [
       "<Figure size 640x480 with 1 Axes>"
      ]
     },
     "metadata": {},
     "output_type": "display_data"
    }
   ],
   "source": [
    "plot_representations(torch.from_numpy(expected_next_state_encodings))"
   ]
  },
  {
   "cell_type": "code",
   "execution_count": 23,
   "metadata": {},
   "outputs": [
    {
     "data": {
      "image/png": "[encoded data removed]",
      "text/plain": [
       "<Figure size 640x480 with 1 Axes>"
      ]
     },
     "metadata": {},
     "output_type": "display_data"
    }
   ],
   "source": [
    "def plot_pca(next_state_encodings):\n",
    "    next_state_representations = to_np(next_state_encodings)\n",
    "    next_state_representations = sklearn.decomposition.PCA(2).fit_transform(next_state_representations)\n",
    "    # colors = [\"red\", \"blue\", \"black\", \"green\"]\n",
    "    colors = [\"red\", \"blue\"]\n",
    "    markers = [\"<\", \">\"]\n",
    "    for s in range(8):\n",
    "        for a in range(2):\n",
    "            c = colors[s//2 % 2]\n",
    "            m = markers[a]\n",
    "            i = np.ravel_multi_index((s, a), (8, 2))\n",
    "            plt.scatter(next_state_representations[i, 0], next_state_representations[i, 1], c=c, marker=m)\n",
    "    plt.show()\n",
    "    \n",
    "plot_pca(pred_next_state_encodings)"
   ]
  },
  {
   "cell_type": "code",
   "execution_count": 25,
   "metadata": {},
   "outputs": [
    {
     "data": {
      "image/png": "[encoded data removed]",
      "text/plain": [
       "<Figure size 640x480 with 1 Axes>"
      ]
     },
     "metadata": {},
     "output_type": "display_data"
    }
   ],
   "source": [
    "plot_pca(torch.from_numpy(expected_next_state_encodings))"
   ]
  },
  {
   "cell_type": "code",
   "execution_count": 27,
   "metadata": {},
   "outputs": [
    {
     "name": "stdout",
     "output_type": "stream",
     "text": [
      "[[0.39 0.77 0.24 0.69 0.23 0.42 0.31 0.29]\n",
      " [0.39 0.77 0.24 0.69 0.23 0.42 0.31 0.29]\n",
      " [0.38 0.56 0.26 0.52 0.22 0.44 0.27 0.28]\n",
      " [0.38 0.56 0.26 0.52 0.22 0.44 0.27 0.28]\n",
      " [0.38 0.82 0.29 0.71 0.22 0.41 0.26 0.28]\n",
      " [0.38 0.82 0.29 0.71 0.22 0.41 0.26 0.28]\n",
      " [0.38 0.65 0.26 0.6  0.23 0.41 0.27 0.28]\n",
      " [0.38 0.65 0.26 0.6  0.23 0.41 0.27 0.28]]\n"
     ]
    }
   ],
   "source": [
    "with np.printoptions(2):\n",
    "    print(expected_next_state_encodings[::2])"
   ]
  },
  {
   "cell_type": "code",
   "execution_count": 28,
   "metadata": {},
   "outputs": [
    {
     "data": {
      "image/png": "[encoded data removed]",
      "text/plain": [
       "<Figure size 300x1200 with 32 Axes>"
      ]
     },
     "metadata": {},
     "output_type": "display_data"
    }
   ],
   "source": [
    "@torch.no_grad()\n",
    "def autoencode():\n",
    "    state_enc = world_model.state_encoder(state_tensors)\n",
    "    pred_states = world_model.state_decoder(state_enc)\n",
    "\n",
    "    def plot_pred_transition(ax_row, state, pred_state):\n",
    "        ax_row[0].imshow(state.transpose((1, 2, 0)) * 255)\n",
    "        ax_row[1].imshow(np.clip(to_np(pred_state) * 255, 0, 255).astype(int).transpose((1, 2, 0)))\n",
    "        for ax in ax_row:\n",
    "            ax.set_xticks([])\n",
    "            ax.set_yticks([])\n",
    "    \n",
    "    dataset = train_dataset + test_dataset\n",
    "    n_state_action_pairs = len(dataset)\n",
    "    fig, axes = plt.subplots(n_state_action_pairs, 2, figsize=(3, 12))\n",
    "    for i in range(n_state_action_pairs):\n",
    "        state, _, _ = dataset[i]\n",
    "        plot_pred_transition(axes[i], state, pred_states[i])\n",
    "    plt.show()\n",
    "    \n",
    "autoencode()"
   ]
  },
  {
   "cell_type": "code",
   "execution_count": 54,
   "metadata": {},
   "outputs": [],
   "source": [
    "from fim import flatten_params, recover_flattened, get_jac, get_FIM, get_FIM_inv, flatten_jac"
   ]
  },
  {
   "cell_type": "code",
   "execution_count": 51,
   "metadata": {},
   "outputs": [],
   "source": [
    "flat_param_dict = flatten_params(world_model)"
   ]
  },
  {
   "cell_type": "code",
   "execution_count": 53,
   "metadata": {},
   "outputs": [
    {
     "data": {
      "text/plain": [
       "[(0, 360),\n",
       " (360, 368),\n",
       " (368, 944),\n",
       " (944, 952),\n",
       " (952, 1096),\n",
       " (1096, 1112),\n",
       " (1112, 1368),\n",
       " (1368, 1384),\n",
       " (1384, 1512),\n",
       " (1512, 1520),\n",
       " (1520, 2480),\n",
       " (2480, 2488),\n",
       " (2488, 2704),\n",
       " (2704, 2707)]"
      ]
     },
     "execution_count": 53,
     "metadata": {},
     "output_type": "execute_result"
    }
   ],
   "source": [
    "flat_param_dict[\"indices\"]"
   ]
  }
 ],
 "metadata": {
  "kernelspec": {
   "display_name": "diffusion",
   "language": "python",
   "name": "python3"
  },
  "language_info": {
   "codemirror_mode": {
    "name": "ipython",
    "version": 3
   },
   "file_extension": ".py",
   "mimetype": "text/x-python",
   "name": "python",
   "nbconvert_exporter": "python",
   "pygments_lexer": "ipython3",
   "version": "3.11.5"
  }
 },
 "nbformat": 4,
 "nbformat_minor": 2
}
